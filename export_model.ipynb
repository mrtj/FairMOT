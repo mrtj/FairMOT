{
 "cells": [
  {
   "cell_type": "markdown",
   "id": "6945b5ec",
   "metadata": {},
   "source": [
    "# Export FairMOT model in torchscript format\n",
    "\n",
    "This notebook contains the necessary modifications to export the YoloV5s backbone based FairMOT model in torchscript format. This format can be used later on as an input to [Apache TVM](https://tvm.apache.org) or [SageMaker Neo](https://aws.amazon.com/sagemaker/neo/) compilation job. At the end of the notebook you also find an example how to launch a SageMaker Neo compilation job with the exported model.\n",
    "\n",
    "Set up the FairMOT environment as described in README. If you also want to compile the model with Neo, you will need boto3 and sagemaker Python sdk:\n",
    "\n",
    "```bash\n",
    "$ pip install boto3 sagemaker\n",
    "```\n",
    "\n",
    "The model is modified in the following ways:\n",
    "\n",
    " - The library implementation of Sigmoid Linear Unit (SiLU) function, used as activation function in the YoloV5 backbone, and as a separate layer in the FairMOT heads, is not implemented in the TVM compiler. The packaged SiLU is replaced by a manual implementation. The replacer code was partly inspired by the original [YoloV5 repo](https://github.com/ultralytics/yolov5/blob/master/export.py).\n",
    " - The FairMOT network, implemented in `PoseYOLOv5s` class (`./src/lib/models.yolo.py`) returns a dictionary that is not supported by TVM. A new flag was added to the `./src/lib/models/networks/config/yolov5s.yaml` configuration file: setting `tuple_output` to `true` makes the network return a tuple instead of a `dict`. The elements in the tuple are ordered based on the lexicographic order of the dictionary keys."
   ]
  },
  {
   "cell_type": "code",
   "execution_count": null,
   "id": "77ad0398",
   "metadata": {},
   "outputs": [],
   "source": [
    "%cd src"
   ]
  },
  {
   "cell_type": "code",
   "execution_count": null,
   "id": "3b1904a4",
   "metadata": {},
   "outputs": [],
   "source": [
    "import datetime\n",
    "import time\n",
    "import os\n",
    "import json\n",
    "\n",
    "import boto3\n",
    "import sagemaker\n",
    "\n",
    "import torch\n",
    "import torch.nn as nn\n",
    "print('pytorch version:', torch.__version__)\n",
    "\n",
    "import _init_paths\n",
    "from opts import opts\n",
    "from models.model import create_model, load_model"
   ]
  },
  {
   "cell_type": "code",
   "execution_count": null,
   "id": "8a50b69c",
   "metadata": {},
   "outputs": [],
   "source": [
    "def wait_for_compilation_job(compilation_job_name, polling=10):\n",
    "    sagemaker_client = boto3.client('sagemaker')\n",
    "    resp = sagemaker_client.describe_compilation_job(CompilationJobName=compilation_job_name)\n",
    "    status = resp['CompilationJobStatus']\n",
    "    info = { 'compilation_job_result': status }\n",
    "    while status not in ['COMPLETED', 'FAILED', 'STOPPED']:\n",
    "        print('.', end='', flush=True)\n",
    "        time.sleep(polling)\n",
    "        resp = sagemaker_client.describe_compilation_job(CompilationJobName=compilation_job_name)\n",
    "        status = resp['CompilationJobStatus']\n",
    "        info['compilation_job_result'] = status\n",
    "    print(status)\n",
    "    if status == 'FAILED':\n",
    "        reason = resp.get('FailureReason', '(No reason provided)').replace('\\\\n', '\\n')\n",
    "        info['compilation_job_failure_reason'] = reason\n",
    "        print(reason)\n",
    "    return info"
   ]
  },
  {
   "cell_type": "code",
   "execution_count": null,
   "id": "1fba56a2",
   "metadata": {},
   "outputs": [],
   "source": [
    "args = 'mot --load_model ../models/fairmot_lite.pth --conf_thres 0.4 --arch yolo'.split(' ')\n",
    "opt = opts().init(args)"
   ]
  },
  {
   "cell_type": "code",
   "execution_count": null,
   "id": "de15c765",
   "metadata": {},
   "outputs": [],
   "source": [
    "model = create_model(opt.arch, opt.heads, opt.head_conv)\n",
    "print(f'arch={opt.arch}, heads={opt.heads}, head_conv={opt.head_conv}')\n",
    "model = load_model(model, opt.load_model)\n",
    "model = model.eval()"
   ]
  },
  {
   "cell_type": "code",
   "execution_count": null,
   "id": "df3b9fdc",
   "metadata": {},
   "outputs": [],
   "source": [
    "# SiLU https://arxiv.org/pdf/1606.08415.pdf \n",
    "class SiLU(nn.Module):  # export-friendly version of nn.SiLU()\n",
    "    @staticmethod\n",
    "    def forward(x):\n",
    "        return x * torch.sigmoid(x)\n",
    "    \n",
    "from models.common import Conv\n",
    "from models.yolo import Detect\n",
    "\n",
    "replaced_silu = 0\n",
    "modified_detect = 0\n",
    "num_silu = 0\n",
    "\n",
    "# from https://github.com/ultralytics/yolov5/blob/master/export.py\n",
    "for k, m in model.named_modules():\n",
    "    if isinstance(m, Conv):  # assign export-friendly activations\n",
    "        if isinstance(m.act, nn.SiLU):\n",
    "            m.act = SiLU()\n",
    "            replaced_silu += 1\n",
    "    elif isinstance(m, Detect):\n",
    "        m.inplace = inplace\n",
    "        m.onnx_dynamic = dynamic\n",
    "        modified_detect += 1\n",
    "    \n",
    "    # in FairMOT heads there's also silu as layers\n",
    "    elif isinstance(m, nn.Sequential):\n",
    "        for idx, submod in enumerate(m):\n",
    "            if isinstance(submod, nn.SiLU):\n",
    "                m[idx] = SiLU()\n",
    "                num_silu += 1\n",
    "\n",
    "print('No. of replaced SiLU activations:', replaced_silu)\n",
    "print('No. of modified Detect layers:', modified_detect)\n",
    "print('No. of replaced SiLU layers:', num_silu)"
   ]
  },
  {
   "cell_type": "code",
   "execution_count": null,
   "id": "c8248171",
   "metadata": {},
   "outputs": [],
   "source": [
    "input_size = [1, 3, 608, 1088]\n",
    "print('Exported model input size:', input_size)\n",
    "dummy_input = torch.randn(*input_size)"
   ]
  },
  {
   "cell_type": "code",
   "execution_count": null,
   "id": "7186b1ce",
   "metadata": {},
   "outputs": [],
   "source": [
    "print('Model output type:', type(model(dummy_input)))"
   ]
  },
  {
   "cell_type": "code",
   "execution_count": null,
   "id": "7a97069b",
   "metadata": {},
   "outputs": [],
   "source": [
    "!mkdir -p ../models"
   ]
  },
  {
   "cell_type": "code",
   "execution_count": null,
   "id": "33b90fb2",
   "metadata": {},
   "outputs": [],
   "source": [
    "traced_model_filename = '../models/fairmot_lite_torchscript.pth'\n",
    "\n",
    "traced_model = torch.jit.trace(model, dummy_input, strict=False)\n",
    "traced_model.save(traced_model_filename)\n",
    "\n",
    "print('Traced model was saved to:', traced_model_filename)"
   ]
  },
  {
   "cell_type": "code",
   "execution_count": null,
   "id": "714bb9f5",
   "metadata": {},
   "outputs": [],
   "source": [
    "import tarfile\n",
    "\n",
    "model_archive_filename = '../models/fairmot_lite_torchscript.tar.gz'\n",
    "with tarfile.open(model_archive_filename, \"w:gz\") as f:\n",
    "    f.add(traced_model_filename, arcname=os.path.basename(traced_model_filename))\n",
    "print('Traced model was archived as:', model_archive_filename)"
   ]
  },
  {
   "cell_type": "markdown",
   "id": "2723a0d6",
   "metadata": {},
   "source": [
    "## Compile the traced model with SageMaker Neo"
   ]
  },
  {
   "cell_type": "code",
   "execution_count": null,
   "id": "6f719236",
   "metadata": {},
   "outputs": [],
   "source": [
    "sm_client = boto3.client('sagemaker')\n",
    "sm_session = sagemaker.Session()\n",
    "bucket = sm_session.default_bucket()\n",
    "compiler_uri_prefix = 'model_compiler/'"
   ]
  },
  {
   "cell_type": "code",
   "execution_count": null,
   "id": "8cfcc18a",
   "metadata": {},
   "outputs": [],
   "source": [
    "base_job_name = 'fairmot-pt-jetson-xavier'\n",
    "job_name = f'{base_job_name}-{datetime.datetime.now():%Y-%m-%d-%H-%M-%S}'\n",
    "job_prefix = os.path.join(compiler_uri_prefix, job_name)\n",
    "model_input_prefix = os.path.join(job_prefix, 'input')\n",
    "model_input_uri = sm_session.upload_data(path=model_archive_filename, key_prefix=model_input_prefix)\n",
    "print(f'Compilation job input was uploaded to:\\n{model_input_uri}')"
   ]
  },
  {
   "cell_type": "code",
   "execution_count": null,
   "id": "e57d1233",
   "metadata": {},
   "outputs": [],
   "source": [
    "target_device = 'jetson_xavier'\n",
    "target_platform = None\n",
    "compiler_options = None\n",
    "\n",
    "role = sagemaker.get_execution_role()\n",
    "framework = 'PYTORCH'\n",
    "framework_version = '.'.join(torch.__version__.split('.')[:2])\n",
    "output_prefix = os.path.join(job_prefix, 'output')\n",
    "output_uri = f's3://{bucket}/{output_prefix}'\n",
    "\n",
    "input_config = {\n",
    "    'S3Uri': model_input_uri,\n",
    "    'DataInputConfig': json.dumps({'input0': input_size}),\n",
    "    'Framework': framework\n",
    "}\n",
    "if framework_version is not None:\n",
    "    input_config['FrameworkVersion'] = framework_version\n",
    "\n",
    "output_config = {\n",
    "    'S3OutputLocation': output_uri,\n",
    "}\n",
    "if target_device:\n",
    "    output_config['TargetDevice'] = target_device\n",
    "if target_platform:\n",
    "    output_config['TargetPlatform'] = target_platform\n",
    "if compiler_options:\n",
    "    output_config['CompilerOptions'] = json.dumps(compiler_options)\n",
    "    \n",
    "sm_client.create_compilation_job(\n",
    "    CompilationJobName=job_name,\n",
    "    RoleArn=role,\n",
    "    InputConfig=input_config,\n",
    "    OutputConfig=output_config,\n",
    "    StoppingCondition={\n",
    "        'MaxRuntimeInSeconds': 600,\n",
    "        'MaxWaitTimeInSeconds': 900\n",
    "    }\n",
    ")"
   ]
  },
  {
   "cell_type": "code",
   "execution_count": null,
   "id": "34f3f574",
   "metadata": {},
   "outputs": [],
   "source": [
    "wait_for_compilation_job(job_name)"
   ]
  }
 ],
 "metadata": {
  "kernelspec": {
   "display_name": "fairmot",
   "language": "python",
   "name": "fairmot"
  },
  "language_info": {
   "codemirror_mode": {
    "name": "ipython",
    "version": 3
   },
   "file_extension": ".py",
   "mimetype": "text/x-python",
   "name": "python",
   "nbconvert_exporter": "python",
   "pygments_lexer": "ipython3",
   "version": "3.7.12"
  }
 },
 "nbformat": 4,
 "nbformat_minor": 5
}
